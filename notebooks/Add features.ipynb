{
 "cells": [
  {
   "cell_type": "markdown",
   "metadata": {},
   "source": [
    "### vi. Attacker relationship (how do they claim to know the victim, 1) met online? 2) friend of a friend?, 3) met the victim in person before)"
   ]
  },
  {
   "cell_type": "markdown",
   "metadata": {},
   "source": [
    "#### Example sentences:\n",
    "- I **got your contact during** one of my recent official trips to S/korea March/April this year as one of the  Economic Community of West African States (ECOWAS) Delegates accredited by the Korea Trade Promotion Agency (KOTRA) office to attend your  Trade Missions-the Korean International Commercial and Special Vehicle show tagged \"CSV SHOW 2006\" held there between Wednesday the 29th of March to Saturday Ist April 2006.\n",
    "- I **got your contact from** a close Associate of mine who works with the Nigerian Chamber of Commerce and Industry  who visited your country for an International Trade Fair upon my quest for a trusted and reliable foreign businessman or company. \n",
    "- I GUESS THIS LETTER MAY COME TO YOU AS SURPRISE SINCE I **HAD NO PREVIOUS CORRESPONDENCE WITH YOU**.\n",
    "- I know this letter will come to you as surprise. **I managed to get your contact line from** the Cote Divoire Chamber of Commerce, hence I did not waste time to contact you on a business proposal. \n"
   ]
  },
  {
   "cell_type": "code",
   "execution_count": 18,
   "metadata": {},
   "outputs": [],
   "source": [
    "import json\n",
    "import os\n",
    "from ftfy import fix_text\n",
    "\n",
    "PATH = '../data/separated by email/'\n",
    "\n",
    "for email in os.listdir(PATH):\n",
    "    j = json.load(open(os.path.join(PATH, email)))\n",
    "    text = j['X-TIKA:content']\n",
    "    text_cleaned = fix_text(text)\n",
    "    break"
   ]
  },
  {
   "cell_type": "code",
   "execution_count": 20,
   "metadata": {},
   "outputs": [
    {
     "data": {
      "text/plain": [
       "[]"
      ]
     },
     "execution_count": 20,
     "metadata": {},
     "output_type": "execute_result"
    }
   ],
   "source": [
    "from flashtext import KeywordProcessor\n",
    "keyword_processor = KeywordProcessor()\n",
    "keyword_processor.add_keywords_from_list(['got your contact'])\n",
    "keyword_processor.extract_keywords(text_cleaned)"
   ]
  },
  {
   "cell_type": "code",
   "execution_count": 26,
   "metadata": {},
   "outputs": [
    {
     "name": "stdout",
     "output_type": "stream",
     "text": [
      "\n",
      "I am a member of Independent Committee of Eminent Persons (ICEP),London.\n",
      "\n",
      "ICEP is charged with the responsibility \n",
      "of finding bank accounts in Switzerland belonging to non-Swiss indigenes, which have remained dormant since World War II. \n",
      "\n",
      "\n",
      "\n",
      "It may interest you to know that in July \n",
      "of 1997, the Swiss Banker's Association published a list of dormant accounts originally opened by non-Swiss citizens. \n",
      "\n",
      "These accounts had been dormant since the end of World War II (May 9, 1945). Most belonged to Holocaust victims.\n",
      "\n",
      "The continuing efforts of the Independent \n",
      "Committee of Eminent Persons (ICEP)have since resulted in the discovery of additional dormant accounts -54 ,000 in December, 1999.\n",
      "\n"
     ]
    }
   ],
   "source": [
    "print(fix_text('''\n",
    "I am a member of Independent Committee of Eminent Persons (ICEP),London.\n",
    "\n",
    "ICEP is charged with the responsibility \\nof finding bank accounts in Switzerland belonging to non-Swiss indigenes, which have remained dormant since World War II. \n",
    "\n",
    "\n",
    "\n",
    "It may interest you to know that in July \\nof 1997, the Swiss Banker's Association published a list of dormant accounts originally opened by non-Swiss citizens. \n",
    "\n",
    "These accounts had been dormant since the end of World War II (May 9, 1945). Most belonged to Holocaust victims.\n",
    "\n",
    "The continuing efforts of the Independent \\nCommittee of Eminent Persons (ICEP)have since resulted in the discovery of additional dormant accounts -54 ,000 in December, 1999.\n",
    "'''))"
   ]
  },
  {
   "cell_type": "code",
   "execution_count": null,
   "metadata": {},
   "outputs": [],
   "source": []
  },
  {
   "cell_type": "code",
   "execution_count": null,
   "metadata": {},
   "outputs": [],
   "source": []
  },
  {
   "cell_type": "code",
   "execution_count": null,
   "metadata": {},
   "outputs": [],
   "source": []
  },
  {
   "cell_type": "code",
   "execution_count": null,
   "metadata": {},
   "outputs": [],
   "source": []
  },
  {
   "cell_type": "code",
   "execution_count": null,
   "metadata": {},
   "outputs": [],
   "source": []
  },
  {
   "cell_type": "markdown",
   "metadata": {},
   "source": [
    "### ix. Attacker estimated age. You will use the USC Data Science AgePredictor, here: https://github.com/USCDataScience/AgePredictor"
   ]
  },
  {
   "cell_type": "code",
   "execution_count": null,
   "metadata": {},
   "outputs": [],
   "source": []
  }
 ],
 "metadata": {
  "kernelspec": {
   "display_name": "dsci550-assignment1",
   "language": "python",
   "name": "dsci550-assignment1"
  },
  "language_info": {
   "codemirror_mode": {
    "name": "ipython",
    "version": 3
   },
   "file_extension": ".py",
   "mimetype": "text/x-python",
   "name": "python",
   "nbconvert_exporter": "python",
   "pygments_lexer": "ipython3",
   "version": "3.8.5"
  }
 },
 "nbformat": 4,
 "nbformat_minor": 4
}
