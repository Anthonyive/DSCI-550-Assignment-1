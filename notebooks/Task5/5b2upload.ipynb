{
 "cells": [
  {
   "cell_type": "markdown",
   "id": "angry-inspection",
   "metadata": {},
   "source": [
    "# 5b2 Upload\n",
    "This is some sort of helper code to aid uploading data to the firebase. Note that you may not have the data in the download folder."
   ]
  },
  {
   "cell_type": "code",
   "execution_count": 10,
   "id": "eligible-slovenia",
   "metadata": {},
   "outputs": [],
   "source": [
    "import requests, json\n",
    "from tqdm.notebook import tqdm"
   ]
  },
  {
   "cell_type": "code",
   "execution_count": 3,
   "id": "rough-shannon",
   "metadata": {},
   "outputs": [],
   "source": [
    "j = json.load(open('Downloads/5bii.json'))"
   ]
  },
  {
   "cell_type": "code",
   "execution_count": 15,
   "id": "entertaining-electron",
   "metadata": {},
   "outputs": [
    {
     "data": {
      "application/vnd.jupyter.widget-view+json": {
       "model_id": "aad2815ced254f41bd828adbfb4c7a8f",
       "version_major": 2,
       "version_minor": 0
      },
      "text/plain": [
       "  0%|          | 0/4030 [00:00<?, ?it/s]"
      ]
     },
     "metadata": {},
     "output_type": "display_data"
    }
   ],
   "source": [
    "t = tqdm(j.items())\n",
    "for email, attrs in t:\n",
    "#     https://dsci-550-default-rtdb.firebaseio.com/\n",
    "    t.set_description(email)\n",
    "    requests.patch(f'https://dsci-550-project.firebaseio.com/{email}.json', json=attrs)"
   ]
  },
  {
   "cell_type": "code",
   "execution_count": null,
   "id": "bored-validation",
   "metadata": {},
   "outputs": [],
   "source": []
  }
 ],
 "metadata": {
  "kernelspec": {
   "display_name": "dsci550-assignment1",
   "language": "python",
   "name": "dsci550-assignment1"
  },
  "language_info": {
   "codemirror_mode": {
    "name": "ipython",
    "version": 3
   },
   "file_extension": ".py",
   "mimetype": "text/x-python",
   "name": "python",
   "nbconvert_exporter": "python",
   "pygments_lexer": "ipython3",
   "version": "3.8.5"
  }
 },
 "nbformat": 4,
 "nbformat_minor": 5
}
