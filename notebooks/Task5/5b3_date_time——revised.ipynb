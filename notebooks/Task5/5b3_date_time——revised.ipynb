{
 "cells": [
  {
   "cell_type": "code",
   "execution_count": 3,
   "metadata": {},
   "outputs": [],
   "source": [
    "import json\n",
    "import os\n",
    "import datetime\n",
    "from datetime import datetime, date, time, timezone\n"
   ]
  },
  {
   "cell_type": "markdown",
   "metadata": {},
   "source": [
    "for index in range(200):\n",
    "    testfile=json.load(open(f'data/separated by email/{index}.json')) \n",
    "    try:\n",
    "        oldformat=testfile['MboxParser-from'][3:]\n",
    "        dt=datetime.strptime(oldformat,\"%c\")  \n",
    "        \n",
    "        #print(dt.strftime('%x'),dt.strftime('%X'))\n",
    "                               \n",
    "    except KeyError:\n",
    "        pass\n"
   ]
  },
  {
   "cell_type": "code",
   "execution_count": 5,
   "metadata": {},
   "outputs": [],
   "source": [
    "def addtimedate(filepath):\n",
    "    file=open(filepath,'r')\n",
    "    a=json.load(file)\n",
    "    file.close()\n",
    "    try:\n",
    "        oldformat=a['MboxParser-from'][3:]\n",
    "        dt=datetime.strptime(oldformat,\"%c\")\n",
    "        a['date']=dt.strftime('%x')\n",
    "        a['time']=dt.strftime('%X')\n",
    "    except KeyError:\n",
    "        pass\n",
    "    file = open(filepath, \"w+\")\n",
    "    file.write(json.dumps(a))\n",
    "    file.close()\n",
    "\n",
    "        "
   ]
  },
  {
   "cell_type": "markdown",
   "metadata": {},
   "source": [
    "for filepath in listdir():\n",
    "    addtimedate(filepath)\n"
   ]
  },
  {
   "cell_type": "code",
   "execution_count": null,
   "metadata": {},
   "outputs": [],
   "source": []
  },
  {
   "cell_type": "code",
   "execution_count": null,
   "metadata": {},
   "outputs": [],
   "source": []
  }
 ],
 "metadata": {
  "kernelspec": {
   "display_name": "Python 3",
   "language": "python",
   "name": "python3"
  },
  "language_info": {
   "codemirror_mode": {
    "name": "ipython",
    "version": 3
   },
   "file_extension": ".py",
   "mimetype": "text/x-python",
   "name": "python",
   "nbconvert_exporter": "python",
   "pygments_lexer": "ipython3",
   "version": "3.8.5"
  }
 },
 "nbformat": 4,
 "nbformat_minor": 4
}
