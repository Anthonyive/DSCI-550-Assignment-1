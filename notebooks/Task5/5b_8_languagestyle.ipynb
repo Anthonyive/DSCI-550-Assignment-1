{
 "cells": [
  {
   "cell_type": "code",
   "execution_count": 45,
   "metadata": {},
   "outputs": [],
   "source": [
    "import nltk\n",
    "import json\n",
    "import re\n",
    "import string\n",
    "import sys\n",
    "#pip install language-tool-python\n",
    "import language_tool_python\n",
    "#pip install truecase\n",
    "import truecase"
   ]
  },
  {
   "cell_type": "code",
   "execution_count": 46,
   "metadata": {},
   "outputs": [],
   "source": [
    "def total_word(text): \n",
    "    words = text.split()\n",
    "    # remove punctuation from each word\n",
    "    table = str.maketrans('', '', string.punctuation)\n",
    "    stripped = [w.translate(table).lower() for w in words]\n",
    "    return(list(stripped))\n"
   ]
  },
  {
   "cell_type": "code",
   "execution_count": 47,
   "metadata": {},
   "outputs": [],
   "source": [
    "def truecasing_by_sentence_segmentation(input_text):\n",
    "    # split the text into sentences\n",
    "    sentences = sent_tokenize(input_text, language='english')\n",
    "    # capitalize the sentences\n",
    "    sentences_capitalized = [s.capitalize() for s in sentences]\n",
    "    # join the capitalized sentences\n",
    "    text_truecase = re.sub(\" (?=[\\.,'!?:;])\", \"\", ' '.join(sentences_capitalized))\n",
    "    return text_truecase\n"
   ]
  },
  {
   "cell_type": "code",
   "execution_count": 48,
   "metadata": {},
   "outputs": [],
   "source": [
    "#split the text by words and remove punctuation\n",
    "def split_remove_punc(text): \n",
    "    words = text.split()\n",
    "    # remove punctuation from each word\n",
    "    table = str.maketrans('', '', string.punctuation)\n",
    "    stripped = [w.translate(table) for w in words]\n",
    "    return(stripped)"
   ]
  },
  {
   "cell_type": "code",
   "execution_count": 49,
   "metadata": {},
   "outputs": [],
   "source": [
    "#Find grammar and spelling errors using language_tool_python\n",
    "def get_total_errors(text): \n",
    "    try:\n",
    "        tool = language_tool_python.LanguageTool()\n",
    "        matches = tool.check(text)\n",
    "        errors=len(matches)\n",
    "        return errors\n",
    "    except:\n",
    "        return 0"
   ]
  },
  {
   "cell_type": "code",
   "execution_count": 50,
   "metadata": {},
   "outputs": [],
   "source": [
    "#This function input the cleaned text, and return ratio of wrong capitalizations.\n",
    "def get_cap_problems(text):\n",
    "    try:\n",
    "        #using packages to find right casing of the text\n",
    "        fixed_text=truecase.get_true_case(text)\n",
    "        result=truecasing_by_sentence_segmentation(fixed_text)\n",
    "        #compare the truecase text with the original list of words\n",
    "        #get list c, which is the list of the different wording choices\n",
    "        a=split_remove_punc(result)\n",
    "        b=split_remove_punc(text)\n",
    "        s=set(b)\n",
    "        c=[x for x in a if x not in s]\n",
    "        #calculate the ratio of wrong capitalization in the text\n",
    "        #number of words that used wrong casing / number of total words\n",
    "        total_words=total_word(text)\n",
    "        return \"{:.3f}\".format(float(len(c)/len(total_words)))\n",
    "    except:\n",
    "        return 0      "
   ]
  },
  {
   "cell_type": "code",
   "execution_count": 51,
   "metadata": {},
   "outputs": [],
   "source": [
    "#add the two attributes to the single json file specified by filepath\n",
    "def add_language_style(filepath):\n",
    "    file=open(filepath,'r')\n",
    "    content=json.load(file)\n",
    "    # Get cleaned letter content\n",
    "    try:\n",
    "        text=content[\"X-TIKA:content\"].strip('\\n')\n",
    "        #tokenize the words in content\n",
    "        token=total_words(text)\n",
    "        content['total_errors']=get_total_errors(text)\n",
    "        content['wrong_cap_ratio']=get_cap_problems(text)\n",
    "    except:\n",
    "        pass\n",
    "    file =open(\"filepath\", \"w+\")\n",
    "    file.write(json.dumps(content))\n",
    "    file.close()"
   ]
  },
  {
   "cell_type": "markdown",
   "metadata": {},
   "source": [
    "for filepath in listdir(...):\n",
    "    add_language_style(filepath)"
   ]
  }
 ],
 "metadata": {
  "kernelspec": {
   "display_name": "Python 3",
   "language": "python",
   "name": "python3"
  },
  "language_info": {
   "codemirror_mode": {
    "name": "ipython",
    "version": 3
   },
   "file_extension": ".py",
   "mimetype": "text/x-python",
   "name": "python",
   "nbconvert_exporter": "python",
   "pygments_lexer": "ipython3",
   "version": "3.8.5"
  }
 },
 "nbformat": 4,
 "nbformat_minor": 4
}
