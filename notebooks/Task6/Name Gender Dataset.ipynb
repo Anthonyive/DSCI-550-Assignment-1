{
 "cells": [
  {
   "cell_type": "code",
   "execution_count": 121,
   "id": "prime-princeton",
   "metadata": {},
   "outputs": [
    {
     "name": "stdout",
     "output_type": "stream",
     "text": [
      "[██████████████████████████████████████████████████]\n"
     ]
    }
   ],
   "source": [
    "from utils import download\n",
    "\n",
    "download('https://archive.ics.uci.edu/ml/machine-learning-databases/00591/name_gender_dataset.csv', 'Downloads/name_gender_dataset.csv')"
   ]
  },
  {
   "cell_type": "code",
   "execution_count": 122,
   "id": "ahead-april",
   "metadata": {},
   "outputs": [],
   "source": [
    "import pandas as pd\n",
    "\n",
    "name_gender_df = pd.read_csv('Downloads/name_gender_dataset.csv')"
   ]
  },
  {
   "cell_type": "code",
   "execution_count": 162,
   "id": "internal-leather",
   "metadata": {},
   "outputs": [
    {
     "data": {
      "text/html": [
       "<div>\n",
       "<style scoped>\n",
       "    .dataframe tbody tr th:only-of-type {\n",
       "        vertical-align: middle;\n",
       "    }\n",
       "\n",
       "    .dataframe tbody tr th {\n",
       "        vertical-align: top;\n",
       "    }\n",
       "\n",
       "    .dataframe thead th {\n",
       "        text-align: right;\n",
       "    }\n",
       "</style>\n",
       "<table border=\"1\" class=\"dataframe\">\n",
       "  <thead>\n",
       "    <tr style=\"text-align: right;\">\n",
       "      <th></th>\n",
       "      <th>Name</th>\n",
       "      <th>Gender</th>\n",
       "      <th>Count</th>\n",
       "      <th>Probability</th>\n",
       "    </tr>\n",
       "  </thead>\n",
       "  <tbody>\n",
       "  </tbody>\n",
       "</table>\n",
       "</div>"
      ],
      "text/plain": [
       "Empty DataFrame\n",
       "Columns: [Name, Gender, Count, Probability]\n",
       "Index: []"
      ]
     },
     "execution_count": 162,
     "metadata": {},
     "output_type": "execute_result"
    }
   ],
   "source": [
    "name_gender_df[name_gender_df['Name'] == 'Appelez']"
   ]
  },
  {
   "cell_type": "code",
   "execution_count": 217,
   "id": "dynamic-andrews",
   "metadata": {},
   "outputs": [
    {
     "data": {
      "application/vnd.jupyter.widget-view+json": {
       "model_id": "d4b48c8a457f47f7923a7b050959250d",
       "version_major": 2,
       "version_minor": 0
      },
      "text/plain": [
       "  0%|          | 0/4032 [00:00<?, ?it/s]"
      ]
     },
     "metadata": {},
     "output_type": "display_data"
    }
   ],
   "source": [
    "import os \n",
    "import json\n",
    "import spacy\n",
    "import itertools\n",
    "import pprint\n",
    "import requests\n",
    "import urllib\n",
    "from tqdm.notebook import tqdm\n",
    "\n",
    "nlp = spacy.load('en_core_web_lg')\n",
    "\n",
    "PATH = '../../data/separated_by_email/'\n",
    "\n",
    "email_names_li = []\n",
    "\n",
    "t = tqdm(os.listdir(PATH))\n",
    "\n",
    "for email in t:\n",
    "    t.set_description(email)\n",
    "    \n",
    "    if email.startswith('.'):\n",
    "        continue\n",
    "        \n",
    "    j = json.load(open(os.path.join(PATH, email)))\n",
    "    \n",
    "    if 'X-TIKA:content' not in j:\n",
    "        continue\n",
    "    \n",
    "    content = j['X-TIKA:content']\n",
    "    doc = nlp(content)\n",
    "    \n",
    "    # check entity if is a person, if it is, split white spaces\n",
    "    nameWords = [name.capitalize() for ee in doc.ents if ee.label_ == 'PERSON' for name in ee.text.split() if name.isalpha()]\n",
    "    \n",
    "    email_names_li += nameWords"
   ]
  },
  {
   "cell_type": "code",
   "execution_count": 296,
   "id": "narrow-rachel",
   "metadata": {},
   "outputs": [
    {
     "data": {
      "text/html": [
       "<div>\n",
       "<style scoped>\n",
       "    .dataframe tbody tr th:only-of-type {\n",
       "        vertical-align: middle;\n",
       "    }\n",
       "\n",
       "    .dataframe tbody tr th {\n",
       "        vertical-align: top;\n",
       "    }\n",
       "\n",
       "    .dataframe thead th {\n",
       "        text-align: right;\n",
       "    }\n",
       "</style>\n",
       "<table border=\"1\" class=\"dataframe\">\n",
       "  <thead>\n",
       "    <tr style=\"text-align: right;\">\n",
       "      <th></th>\n",
       "      <th>Name</th>\n",
       "      <th>Count</th>\n",
       "      <th>Probability</th>\n",
       "    </tr>\n",
       "  </thead>\n",
       "  <tbody>\n",
       "    <tr>\n",
       "      <th>0</th>\n",
       "      <td>Mrs</td>\n",
       "      <td>582</td>\n",
       "      <td>1.711463</td>\n",
       "    </tr>\n",
       "    <tr>\n",
       "      <th>1</th>\n",
       "      <td>Charles</td>\n",
       "      <td>391</td>\n",
       "      <td>1.149797</td>\n",
       "    </tr>\n",
       "    <tr>\n",
       "      <th>2</th>\n",
       "      <td>Abacha</td>\n",
       "      <td>380</td>\n",
       "      <td>1.11745</td>\n",
       "    </tr>\n",
       "    <tr>\n",
       "      <th>3</th>\n",
       "      <td>Taylor</td>\n",
       "      <td>350</td>\n",
       "      <td>1.02923</td>\n",
       "    </tr>\n",
       "    <tr>\n",
       "      <th>4</th>\n",
       "      <td>John</td>\n",
       "      <td>343</td>\n",
       "      <td>1.008646</td>\n",
       "    </tr>\n",
       "    <tr>\n",
       "      <th>...</th>\n",
       "      <td>...</td>\n",
       "      <td>...</td>\n",
       "      <td>...</td>\n",
       "    </tr>\n",
       "    <tr>\n",
       "      <th>4888</th>\n",
       "      <td>Fills</td>\n",
       "      <td>1</td>\n",
       "      <td>0.002941</td>\n",
       "    </tr>\n",
       "    <tr>\n",
       "      <th>4889</th>\n",
       "      <td>Fils</td>\n",
       "      <td>1</td>\n",
       "      <td>0.002941</td>\n",
       "    </tr>\n",
       "    <tr>\n",
       "      <th>4890</th>\n",
       "      <td>Permettrez</td>\n",
       "      <td>1</td>\n",
       "      <td>0.002941</td>\n",
       "    </tr>\n",
       "    <tr>\n",
       "      <th>4891</th>\n",
       "      <td>Permettre</td>\n",
       "      <td>1</td>\n",
       "      <td>0.002941</td>\n",
       "    </tr>\n",
       "    <tr>\n",
       "      <th>4892</th>\n",
       "      <td>У</td>\n",
       "      <td>1</td>\n",
       "      <td>0.002941</td>\n",
       "    </tr>\n",
       "  </tbody>\n",
       "</table>\n",
       "<p>4893 rows × 3 columns</p>\n",
       "</div>"
      ],
      "text/plain": [
       "            Name  Count  Probability\n",
       "0            Mrs    582     1.711463\n",
       "1        Charles    391     1.149797\n",
       "2         Abacha    380      1.11745\n",
       "3         Taylor    350      1.02923\n",
       "4           John    343     1.008646\n",
       "...          ...    ...          ...\n",
       "4888       Fills      1     0.002941\n",
       "4889        Fils      1     0.002941\n",
       "4890  Permettrez      1     0.002941\n",
       "4891   Permettre      1     0.002941\n",
       "4892           У      1     0.002941\n",
       "\n",
       "[4893 rows x 3 columns]"
      ]
     },
     "execution_count": 296,
     "metadata": {},
     "output_type": "execute_result"
    }
   ],
   "source": [
    "import numpy as np\n",
    "df = pd.DataFrame(email_names_li, columns=['Name'],dtype=\"string\")\n",
    "df['Count'] = pd.Series(np.ones(len(df)))\n",
    "# df = df.groupby(['Name']).count().reset_index()\n",
    "df_count = df.groupby(['Name']).agg({'Count': 'sum'}).sort_values(by=['Count'], ascending=False)\n",
    "# df_c\n",
    "df_absFreq = pd.DataFrame(df['Name'].value_counts(normalize=True) * 100)\n",
    "df_absFreq.columns = ['Probability']\n",
    "\n",
    "df = pd.merge(df_count, df_absFreq, left_index=True, right_index=True)\n",
    "df['Count'] = df['Count'].astype(int)\n",
    "df = df.reset_index().rename(columns={'index': 'Name'})\n",
    "df.to_csv('Downloads/name_gender_dataset_emails.csv')\n",
    "df"
   ]
  },
  {
   "cell_type": "code",
   "execution_count": 306,
   "id": "swiss-plastic",
   "metadata": {
    "tags": []
   },
   "outputs": [
    {
     "data": {
      "application/vnd.jupyter.widget-view+json": {
       "model_id": "e07a813a5ba440f19c86a4b712bd1d8c",
       "version_major": 2,
       "version_minor": 0
      },
      "text/plain": [
       "  0%|          | 0/4032 [00:00<?, ?it/s]"
      ]
     },
     "metadata": {},
     "output_type": "display_data"
    }
   ],
   "source": [
    "import os \n",
    "import json\n",
    "import spacy\n",
    "import itertools\n",
    "import pprint\n",
    "import requests\n",
    "import urllib\n",
    "from tqdm.notebook import tqdm\n",
    "\n",
    "nlp = spacy.load('en_core_web_lg')\n",
    "\n",
    "PATH = '../../data/separated_by_email/'\n",
    "FIREBASE_URL = 'https://dsci-550-default-rtdb.firebaseio.com/'\n",
    "FIREBASE_TASK5_URL = urllib.parse.urljoin(FIREBASE_URL, 'assignment-1/task-5-additional-features/')\n",
    "\n",
    "t=tqdm(os.listdir(PATH))\n",
    "\n",
    "for email in t:\n",
    "    t.set_description(email)\n",
    "    if email.startswith('.'):\n",
    "        continue\n",
    "    \n",
    "#     print(email)\n",
    "    j = json.load(open(os.path.join(PATH, email)))\n",
    "    \n",
    "    if 'X-TIKA:content' not in j:\n",
    "        continue\n",
    "    \n",
    "    content = j['X-TIKA:content']\n",
    "    doc = nlp(content)\n",
    "    \n",
    "    # check entity if is a person, if it is, split white spaces\n",
    "    nameWords = [name for ee in doc.ents if ee.label_ == 'PERSON' for name in ee.text.split() if name.isalpha()]\n",
    "    \n",
    "    uploadJSON = {'name gender': {\"name words\": nameWords, \"names\": []}}\n",
    "    \n",
    "    for name in nameWords:\n",
    "        nameCap = name.capitalize()\n",
    "        lookup = name_gender_df[name_gender_df['Name'] == nameCap]\n",
    "        lookup = lookup.sort_values(by=['Count'],ascending=False)\n",
    "        \n",
    "        lookup_emails = df[df['Name'] == nameCap]\n",
    "        lookup_emails = lookup_emails.sort_values(by=['Count'],ascending=False)\n",
    "        \n",
    "        if not lookup.empty:\n",
    "            uploadJSON['name gender']['names'].append(lookup.iloc[[0],:].to_dict(orient='records')[0])\n",
    "            lookup_count = uploadJSON['name gender']['names'][-1]['Count']\n",
    "            uploadJSON['name gender']['names'][-1]['Count'] = {'by_lookup': lookup_count, 'by_email': None}\n",
    "            lookup_prob = uploadJSON['name gender']['names'][-1]['Probability']\n",
    "            uploadJSON['name gender']['names'][-1]['Probability'] = {'by_lookup': lookup_prob, 'by_email': None}\n",
    "        else:\n",
    "            uploadJSON['name gender']['names'].append({'Name': name, 'Gender': None, 'Count': {'by_lookup':None, 'by_email':None}, 'Probability': {'by_lookup':None, 'by_email':None}})\n",
    "        \n",
    "        if not lookup_emails.empty:\n",
    "            l = lookup_emails.iloc[[0],:].to_dict(orient='records')[0]\n",
    "            lookup_count = l['Count']\n",
    "            uploadJSON['name gender']['names'][-1]['Count']['by_email'] = lookup_count\n",
    "            lookup_prob = l['Probability']\n",
    "            uploadJSON['name gender']['names'][-1]['Probability']['by_email'] = lookup_prob\n",
    "        else:\n",
    "            uploadJSON['name gender']['names'].append({'Name': name, 'Gender': None, 'Count': {'by_lookup':None, 'by_email':None}, 'Probability': {'by_lookup':None, 'by_email':None}})\n",
    "        \n",
    "#     pp = pprint.PrettyPrinter(indent=1)\n",
    "#     pp.pprint(uploadJSON)\n",
    "    \n",
    "    url = urllib.parse.urljoin(FIREBASE_TASK5_URL, email)\n",
    "    requests.patch(url, json = uploadJSON)\n",
    "    \n",
    "#     # remove emails\n",
    "#     email_pattern = '^[a-zA-Z0-9_.+-]+@[a-zA-Z0-9-]+\\.[a-zA-Z0-9-.]+$'\n",
    "#     emails = [re.findall(email_pattern, word, flags=0) for word in nameWords]\n",
    "#     emails = list(itertools.chain.from_iterable(emails))\n",
    "    \n",
    "#     link_pattern =r\"(https?:\\/\\/(?:www\\.|(?!www))[a-zA-Z0-9][a-zA-Z0-9-]+[a-zA-Z0-9]\\.[^\\s]{2,}|www\\.[a-zA-Z0-9][a-zA-Z0-9-]+[a-zA-Z0-9]\\.[^\\s]{2,}|https?:\\/\\/(?:www\\.|(?!www))[a-zA-Z0-9]+\\.[^\\s]{2,}|www\\.[a-zA-Z0-9]+\\.[^\\s]{2,})\"\n",
    "#     links = [re.findall(link_pattern, word, flags=0) for word in nameWords]\n",
    "#     links = list(itertools.chain.from_iterable(links))\n",
    "    "
   ]
  },
  {
   "cell_type": "code",
   "execution_count": null,
   "id": "separated-stage",
   "metadata": {},
   "outputs": [],
   "source": []
  }
 ],
 "metadata": {
  "kernelspec": {
   "display_name": "dsci550-assignment1",
   "language": "python",
   "name": "dsci550-assignment1"
  },
  "language_info": {
   "codemirror_mode": {
    "name": "ipython",
    "version": 3
   },
   "file_extension": ".py",
   "mimetype": "text/x-python",
   "name": "python",
   "nbconvert_exporter": "python",
   "pygments_lexer": "ipython3",
   "version": "3.8.5"
  }
 },
 "nbformat": 4,
 "nbformat_minor": 5
}
