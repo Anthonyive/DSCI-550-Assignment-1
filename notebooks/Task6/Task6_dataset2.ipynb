{
 "cells": [
  {
   "cell_type": "markdown",
   "id": "killing-characteristic",
   "metadata": {},
   "source": [
    "# Scraping Yahoo Finance Stock Historical Data"
   ]
  },
  {
   "cell_type": "code",
   "execution_count": null,
   "id": "solar-plain",
   "metadata": {},
   "outputs": [],
   "source": [
    "import csv\n",
    "import from io import StringIO"
   ]
  },
  {
   "cell_type": "code",
   "execution_count": 149,
   "id": "unknown-spider",
   "metadata": {},
   "outputs": [],
   "source": [
    "stock = \"^GSPC\"\n",
    "date_string = \"12/31/2017\"\n",
    "date = datetime.datetime.strptime(date_string, \"%m/%d/%Y\")\n",
    "timestamp = datetime.datetime.timestamp(date)"
   ]
  },
  {
   "cell_type": "code",
   "execution_count": 152,
   "id": "raising-trustee",
   "metadata": {},
   "outputs": [],
   "source": [
    "url = \"https://query1.finance.yahoo.com/v7/finance/download/{}?\"\n",
    "params = {\n",
    "    \"period1\":'883641600',\n",
    "    \"period2\":'1514707200',\n",
    "    \"interval\":\"1d\",\n",
    "    \"events\":\"history\"\n",
    "}"
   ]
  },
  {
   "cell_type": "code",
   "execution_count": 153,
   "id": "preliminary-innocent",
   "metadata": {},
   "outputs": [],
   "source": [
    "response = requests.get(url.format(stock),params=params)"
   ]
  },
  {
   "cell_type": "code",
   "execution_count": 183,
   "id": "expired-beginning",
   "metadata": {},
   "outputs": [
    {
     "name": "stdout",
     "output_type": "stream",
     "text": [
      "['Date', 'Open', 'High', 'Low', 'Close', 'Adj Close', 'Volume']\n",
      "['1998-01-02', '970.429993', '975.039978', '965.729980', '975.039978', '975.039978', '366730000']\n",
      "['1998-01-05', '975.039978', '982.630005', '969.000000', '977.070007', '977.070007', '628070000']\n",
      "['1998-01-06', '977.070007', '977.070007', '962.679993', '966.580017', '966.580017', '618360000']\n",
      "['1998-01-07', '966.580017', '966.580017', '952.669983', '964.000000', '964.000000', '667390000']\n",
      "['1998-01-08', '964.000000', '964.000000', '955.039978', '956.049988', '956.049988', '652140000']\n",
      "['1998-01-09', '956.049988', '956.049988', '921.719971', '927.690002', '927.690002', '746420000']\n",
      "['1998-01-12', '927.690002', '939.250000', '912.830017', '939.210022', '939.210022', '705450000']\n",
      "['1998-01-13', '939.210022', '952.140015', '939.210022', '952.119995', '952.119995', '646740000']\n",
      "['1998-01-14', '952.119995', '958.119995', '948.000000', '957.940002', '957.940002', '603280000']\n",
      "['1998-01-15', '957.940002', '957.940002', '950.270020', '950.729980', '950.729980', '569050000']\n",
      "['1998-01-16', '950.729980', '965.119995', '950.729980', '961.510010', '961.510010', '670080000']\n",
      "['1998-01-20', '961.510010', '978.599976', '961.479980', '978.599976', '978.599976', '644790000']\n",
      "['1998-01-21', '978.599976', '978.599976', '963.289978', '970.809998', '970.809998', '626160000']\n",
      "['1998-01-22', '970.809998', '970.809998', '959.489990', '963.039978', '963.039978', '646570000']\n"
     ]
    }
   ],
   "source": [
    "file = StringIO(response.text)\n",
    "reader = csv.reader(file)\n",
    "data = list(reader)\n",
    "with open (\"S&P500 historical data.csv\",\"w\",newline = '')as f:\n",
    "    writer = csv.writer(f)\n",
    "    for i in data:\n",
    "        writer.writerow(i)"
   ]
  },
  {
   "cell_type": "code",
   "execution_count": 8,
   "id": "cardiovascular-leone",
   "metadata": {},
   "outputs": [],
   "source": [
    "import pandas as pd\n",
    "df = pd.read_csv(\"S&P500 historical data.csv\")"
   ]
  },
  {
   "cell_type": "code",
   "execution_count": 15,
   "id": "accredited-firmware",
   "metadata": {},
   "outputs": [
    {
     "data": {
      "text/html": [
       "<div>\n",
       "<style scoped>\n",
       "    .dataframe tbody tr th:only-of-type {\n",
       "        vertical-align: middle;\n",
       "    }\n",
       "\n",
       "    .dataframe tbody tr th {\n",
       "        vertical-align: top;\n",
       "    }\n",
       "\n",
       "    .dataframe thead th {\n",
       "        text-align: right;\n",
       "    }\n",
       "</style>\n",
       "<table border=\"1\" class=\"dataframe\">\n",
       "  <thead>\n",
       "    <tr style=\"text-align: right;\">\n",
       "      <th></th>\n",
       "      <th>Date</th>\n",
       "      <th>Open</th>\n",
       "      <th>High</th>\n",
       "      <th>Low</th>\n",
       "      <th>Close</th>\n",
       "      <th>Adj Close</th>\n",
       "      <th>Volume</th>\n",
       "    </tr>\n",
       "  </thead>\n",
       "  <tbody>\n",
       "    <tr>\n",
       "      <th>0</th>\n",
       "      <td>1998-01-02</td>\n",
       "      <td>970.429993</td>\n",
       "      <td>975.039978</td>\n",
       "      <td>965.729980</td>\n",
       "      <td>975.039978</td>\n",
       "      <td>975.039978</td>\n",
       "      <td>366730000</td>\n",
       "    </tr>\n",
       "    <tr>\n",
       "      <th>1</th>\n",
       "      <td>1998-01-05</td>\n",
       "      <td>975.039978</td>\n",
       "      <td>982.630005</td>\n",
       "      <td>969.000000</td>\n",
       "      <td>977.070007</td>\n",
       "      <td>977.070007</td>\n",
       "      <td>628070000</td>\n",
       "    </tr>\n",
       "    <tr>\n",
       "      <th>2</th>\n",
       "      <td>1998-01-06</td>\n",
       "      <td>977.070007</td>\n",
       "      <td>977.070007</td>\n",
       "      <td>962.679993</td>\n",
       "      <td>966.580017</td>\n",
       "      <td>966.580017</td>\n",
       "      <td>618360000</td>\n",
       "    </tr>\n",
       "    <tr>\n",
       "      <th>3</th>\n",
       "      <td>1998-01-07</td>\n",
       "      <td>966.580017</td>\n",
       "      <td>966.580017</td>\n",
       "      <td>952.669983</td>\n",
       "      <td>964.000000</td>\n",
       "      <td>964.000000</td>\n",
       "      <td>667390000</td>\n",
       "    </tr>\n",
       "    <tr>\n",
       "      <th>4</th>\n",
       "      <td>1998-01-08</td>\n",
       "      <td>964.000000</td>\n",
       "      <td>964.000000</td>\n",
       "      <td>955.039978</td>\n",
       "      <td>956.049988</td>\n",
       "      <td>956.049988</td>\n",
       "      <td>652140000</td>\n",
       "    </tr>\n",
       "    <tr>\n",
       "      <th>...</th>\n",
       "      <td>...</td>\n",
       "      <td>...</td>\n",
       "      <td>...</td>\n",
       "      <td>...</td>\n",
       "      <td>...</td>\n",
       "      <td>...</td>\n",
       "      <td>...</td>\n",
       "    </tr>\n",
       "    <tr>\n",
       "      <th>5027</th>\n",
       "      <td>2017-12-22</td>\n",
       "      <td>2684.219971</td>\n",
       "      <td>2685.350098</td>\n",
       "      <td>2678.129883</td>\n",
       "      <td>2683.340088</td>\n",
       "      <td>2683.340088</td>\n",
       "      <td>2399830000</td>\n",
       "    </tr>\n",
       "    <tr>\n",
       "      <th>5028</th>\n",
       "      <td>2017-12-26</td>\n",
       "      <td>2679.090088</td>\n",
       "      <td>2682.739990</td>\n",
       "      <td>2677.959961</td>\n",
       "      <td>2680.500000</td>\n",
       "      <td>2680.500000</td>\n",
       "      <td>1968780000</td>\n",
       "    </tr>\n",
       "    <tr>\n",
       "      <th>5029</th>\n",
       "      <td>2017-12-27</td>\n",
       "      <td>2682.100098</td>\n",
       "      <td>2685.639893</td>\n",
       "      <td>2678.909912</td>\n",
       "      <td>2682.620117</td>\n",
       "      <td>2682.620117</td>\n",
       "      <td>2202080000</td>\n",
       "    </tr>\n",
       "    <tr>\n",
       "      <th>5030</th>\n",
       "      <td>2017-12-28</td>\n",
       "      <td>2686.100098</td>\n",
       "      <td>2687.659912</td>\n",
       "      <td>2682.689941</td>\n",
       "      <td>2687.540039</td>\n",
       "      <td>2687.540039</td>\n",
       "      <td>2153330000</td>\n",
       "    </tr>\n",
       "    <tr>\n",
       "      <th>5031</th>\n",
       "      <td>2017-12-29</td>\n",
       "      <td>2689.149902</td>\n",
       "      <td>2692.120117</td>\n",
       "      <td>2673.610107</td>\n",
       "      <td>2673.610107</td>\n",
       "      <td>2673.610107</td>\n",
       "      <td>2443490000</td>\n",
       "    </tr>\n",
       "  </tbody>\n",
       "</table>\n",
       "<p>5032 rows × 7 columns</p>\n",
       "</div>"
      ],
      "text/plain": [
       "            Date         Open         High          Low        Close  \\\n",
       "0     1998-01-02   970.429993   975.039978   965.729980   975.039978   \n",
       "1     1998-01-05   975.039978   982.630005   969.000000   977.070007   \n",
       "2     1998-01-06   977.070007   977.070007   962.679993   966.580017   \n",
       "3     1998-01-07   966.580017   966.580017   952.669983   964.000000   \n",
       "4     1998-01-08   964.000000   964.000000   955.039978   956.049988   \n",
       "...          ...          ...          ...          ...          ...   \n",
       "5027  2017-12-22  2684.219971  2685.350098  2678.129883  2683.340088   \n",
       "5028  2017-12-26  2679.090088  2682.739990  2677.959961  2680.500000   \n",
       "5029  2017-12-27  2682.100098  2685.639893  2678.909912  2682.620117   \n",
       "5030  2017-12-28  2686.100098  2687.659912  2682.689941  2687.540039   \n",
       "5031  2017-12-29  2689.149902  2692.120117  2673.610107  2673.610107   \n",
       "\n",
       "        Adj Close      Volume  \n",
       "0      975.039978   366730000  \n",
       "1      977.070007   628070000  \n",
       "2      966.580017   618360000  \n",
       "3      964.000000   667390000  \n",
       "4      956.049988   652140000  \n",
       "...           ...         ...  \n",
       "5027  2683.340088  2399830000  \n",
       "5028  2680.500000  1968780000  \n",
       "5029  2682.620117  2202080000  \n",
       "5030  2687.540039  2153330000  \n",
       "5031  2673.610107  2443490000  \n",
       "\n",
       "[5032 rows x 7 columns]"
      ]
     },
     "execution_count": 15,
     "metadata": {},
     "output_type": "execute_result"
    }
   ],
   "source": [
    "df"
   ]
  },
  {
   "cell_type": "code",
   "execution_count": 16,
   "id": "photographic-village",
   "metadata": {},
   "outputs": [
    {
     "data": {
      "text/plain": [
       "Index(['Date', 'Open', 'High', 'Low', 'Close', 'Adj Close', 'Volume'], dtype='object')"
      ]
     },
     "execution_count": 16,
     "metadata": {},
     "output_type": "execute_result"
    }
   ],
   "source": [
    "df.columns"
   ]
  },
  {
   "cell_type": "code",
   "execution_count": 19,
   "id": "killing-wheat",
   "metadata": {},
   "outputs": [],
   "source": [
    "del df[\"High\"]"
   ]
  },
  {
   "cell_type": "code",
   "execution_count": 21,
   "id": "destroyed-tulsa",
   "metadata": {},
   "outputs": [],
   "source": [
    "df = df.drop(columns = [\"Low\",\"Adj Close\"])"
   ]
  },
  {
   "cell_type": "code",
   "execution_count": 22,
   "id": "placed-basics",
   "metadata": {},
   "outputs": [
    {
     "data": {
      "text/html": [
       "<div>\n",
       "<style scoped>\n",
       "    .dataframe tbody tr th:only-of-type {\n",
       "        vertical-align: middle;\n",
       "    }\n",
       "\n",
       "    .dataframe tbody tr th {\n",
       "        vertical-align: top;\n",
       "    }\n",
       "\n",
       "    .dataframe thead th {\n",
       "        text-align: right;\n",
       "    }\n",
       "</style>\n",
       "<table border=\"1\" class=\"dataframe\">\n",
       "  <thead>\n",
       "    <tr style=\"text-align: right;\">\n",
       "      <th></th>\n",
       "      <th>Date</th>\n",
       "      <th>Open</th>\n",
       "      <th>Close</th>\n",
       "      <th>Volume</th>\n",
       "    </tr>\n",
       "  </thead>\n",
       "  <tbody>\n",
       "    <tr>\n",
       "      <th>0</th>\n",
       "      <td>1998-01-02</td>\n",
       "      <td>970.429993</td>\n",
       "      <td>975.039978</td>\n",
       "      <td>366730000</td>\n",
       "    </tr>\n",
       "    <tr>\n",
       "      <th>1</th>\n",
       "      <td>1998-01-05</td>\n",
       "      <td>975.039978</td>\n",
       "      <td>977.070007</td>\n",
       "      <td>628070000</td>\n",
       "    </tr>\n",
       "    <tr>\n",
       "      <th>2</th>\n",
       "      <td>1998-01-06</td>\n",
       "      <td>977.070007</td>\n",
       "      <td>966.580017</td>\n",
       "      <td>618360000</td>\n",
       "    </tr>\n",
       "    <tr>\n",
       "      <th>3</th>\n",
       "      <td>1998-01-07</td>\n",
       "      <td>966.580017</td>\n",
       "      <td>964.000000</td>\n",
       "      <td>667390000</td>\n",
       "    </tr>\n",
       "    <tr>\n",
       "      <th>4</th>\n",
       "      <td>1998-01-08</td>\n",
       "      <td>964.000000</td>\n",
       "      <td>956.049988</td>\n",
       "      <td>652140000</td>\n",
       "    </tr>\n",
       "    <tr>\n",
       "      <th>...</th>\n",
       "      <td>...</td>\n",
       "      <td>...</td>\n",
       "      <td>...</td>\n",
       "      <td>...</td>\n",
       "    </tr>\n",
       "    <tr>\n",
       "      <th>5027</th>\n",
       "      <td>2017-12-22</td>\n",
       "      <td>2684.219971</td>\n",
       "      <td>2683.340088</td>\n",
       "      <td>2399830000</td>\n",
       "    </tr>\n",
       "    <tr>\n",
       "      <th>5028</th>\n",
       "      <td>2017-12-26</td>\n",
       "      <td>2679.090088</td>\n",
       "      <td>2680.500000</td>\n",
       "      <td>1968780000</td>\n",
       "    </tr>\n",
       "    <tr>\n",
       "      <th>5029</th>\n",
       "      <td>2017-12-27</td>\n",
       "      <td>2682.100098</td>\n",
       "      <td>2682.620117</td>\n",
       "      <td>2202080000</td>\n",
       "    </tr>\n",
       "    <tr>\n",
       "      <th>5030</th>\n",
       "      <td>2017-12-28</td>\n",
       "      <td>2686.100098</td>\n",
       "      <td>2687.540039</td>\n",
       "      <td>2153330000</td>\n",
       "    </tr>\n",
       "    <tr>\n",
       "      <th>5031</th>\n",
       "      <td>2017-12-29</td>\n",
       "      <td>2689.149902</td>\n",
       "      <td>2673.610107</td>\n",
       "      <td>2443490000</td>\n",
       "    </tr>\n",
       "  </tbody>\n",
       "</table>\n",
       "<p>5032 rows × 4 columns</p>\n",
       "</div>"
      ],
      "text/plain": [
       "            Date         Open        Close      Volume\n",
       "0     1998-01-02   970.429993   975.039978   366730000\n",
       "1     1998-01-05   975.039978   977.070007   628070000\n",
       "2     1998-01-06   977.070007   966.580017   618360000\n",
       "3     1998-01-07   966.580017   964.000000   667390000\n",
       "4     1998-01-08   964.000000   956.049988   652140000\n",
       "...          ...          ...          ...         ...\n",
       "5027  2017-12-22  2684.219971  2683.340088  2399830000\n",
       "5028  2017-12-26  2679.090088  2680.500000  1968780000\n",
       "5029  2017-12-27  2682.100098  2682.620117  2202080000\n",
       "5030  2017-12-28  2686.100098  2687.540039  2153330000\n",
       "5031  2017-12-29  2689.149902  2673.610107  2443490000\n",
       "\n",
       "[5032 rows x 4 columns]"
      ]
     },
     "execution_count": 22,
     "metadata": {},
     "output_type": "execute_result"
    }
   ],
   "source": [
    "df"
   ]
  },
  {
   "cell_type": "code",
   "execution_count": 26,
   "id": "recovered-lecture",
   "metadata": {},
   "outputs": [
    {
     "name": "stdout",
     "output_type": "stream",
     "text": [
      "Collecting matplotlib\n",
      "  Downloading matplotlib-3.3.4-cp39-cp39-macosx_10_9_x86_64.whl (8.5 MB)\n",
      "\u001b[K     |████████████████████████████████| 8.5 MB 12.4 MB/s eta 0:00:01\n",
      "\u001b[?25hCollecting kiwisolver>=1.0.1\n",
      "  Downloading kiwisolver-1.3.1-cp39-cp39-macosx_10_9_x86_64.whl (61 kB)\n",
      "\u001b[K     |████████████████████████████████| 61 kB 993 kB/s  eta 0:00:01\n",
      "\u001b[?25hRequirement already satisfied: numpy>=1.15 in /Library/Frameworks/Python.framework/Versions/3.9/lib/python3.9/site-packages (from matplotlib) (1.20.1)\n",
      "Requirement already satisfied: pillow>=6.2.0 in /Library/Frameworks/Python.framework/Versions/3.9/lib/python3.9/site-packages (from matplotlib) (8.1.0)\n",
      "Requirement already satisfied: python-dateutil>=2.1 in /Library/Frameworks/Python.framework/Versions/3.9/lib/python3.9/site-packages (from matplotlib) (2.8.1)\n",
      "Collecting cycler>=0.10\n",
      "  Downloading cycler-0.10.0-py2.py3-none-any.whl (6.5 kB)\n",
      "Requirement already satisfied: pyparsing!=2.0.4,!=2.1.2,!=2.1.6,>=2.0.3 in /Library/Frameworks/Python.framework/Versions/3.9/lib/python3.9/site-packages (from matplotlib) (2.4.7)\n",
      "Requirement already satisfied: six>=1.5 in /Library/Frameworks/Python.framework/Versions/3.9/lib/python3.9/site-packages (from python-dateutil>=2.1->matplotlib) (1.15.0)\n",
      "Installing collected packages: kiwisolver, cycler, matplotlib\n",
      "Successfully installed cycler-0.10.0 kiwisolver-1.3.1 matplotlib-3.3.4\n",
      "\u001b[33mWARNING: You are using pip version 20.2.3; however, version 21.0.1 is available.\n",
      "You should consider upgrading via the '/Library/Frameworks/Python.framework/Versions/3.9/bin/python3.9 -m pip install --upgrade pip' command.\u001b[0m\n"
     ]
    }
   ],
   "source": [
    "!pip3 install matplotlib"
   ]
  },
  {
   "cell_type": "code",
   "execution_count": 27,
   "id": "protecting-artwork",
   "metadata": {},
   "outputs": [],
   "source": [
    "import matplotlib.pyplot as plt"
   ]
  },
  {
   "cell_type": "code",
   "execution_count": 35,
   "id": "attractive-luther",
   "metadata": {},
   "outputs": [
    {
     "data": {
      "text/html": [
       "<div>\n",
       "<style scoped>\n",
       "    .dataframe tbody tr th:only-of-type {\n",
       "        vertical-align: middle;\n",
       "    }\n",
       "\n",
       "    .dataframe tbody tr th {\n",
       "        vertical-align: top;\n",
       "    }\n",
       "\n",
       "    .dataframe thead th {\n",
       "        text-align: right;\n",
       "    }\n",
       "</style>\n",
       "<table border=\"1\" class=\"dataframe\">\n",
       "  <thead>\n",
       "    <tr style=\"text-align: right;\">\n",
       "      <th></th>\n",
       "      <th>Open</th>\n",
       "      <th>Close</th>\n",
       "      <th>Volume</th>\n",
       "    </tr>\n",
       "    <tr>\n",
       "      <th>Date</th>\n",
       "      <th></th>\n",
       "      <th></th>\n",
       "      <th></th>\n",
       "    </tr>\n",
       "  </thead>\n",
       "  <tbody>\n",
       "    <tr>\n",
       "      <th>1998-01-02</th>\n",
       "      <td>970.429993</td>\n",
       "      <td>975.039978</td>\n",
       "      <td>366730000</td>\n",
       "    </tr>\n",
       "    <tr>\n",
       "      <th>1998-01-05</th>\n",
       "      <td>975.039978</td>\n",
       "      <td>977.070007</td>\n",
       "      <td>628070000</td>\n",
       "    </tr>\n",
       "    <tr>\n",
       "      <th>1998-01-06</th>\n",
       "      <td>977.070007</td>\n",
       "      <td>966.580017</td>\n",
       "      <td>618360000</td>\n",
       "    </tr>\n",
       "    <tr>\n",
       "      <th>1998-01-07</th>\n",
       "      <td>966.580017</td>\n",
       "      <td>964.000000</td>\n",
       "      <td>667390000</td>\n",
       "    </tr>\n",
       "    <tr>\n",
       "      <th>1998-01-08</th>\n",
       "      <td>964.000000</td>\n",
       "      <td>956.049988</td>\n",
       "      <td>652140000</td>\n",
       "    </tr>\n",
       "    <tr>\n",
       "      <th>...</th>\n",
       "      <td>...</td>\n",
       "      <td>...</td>\n",
       "      <td>...</td>\n",
       "    </tr>\n",
       "    <tr>\n",
       "      <th>2017-12-22</th>\n",
       "      <td>2684.219971</td>\n",
       "      <td>2683.340088</td>\n",
       "      <td>2399830000</td>\n",
       "    </tr>\n",
       "    <tr>\n",
       "      <th>2017-12-26</th>\n",
       "      <td>2679.090088</td>\n",
       "      <td>2680.500000</td>\n",
       "      <td>1968780000</td>\n",
       "    </tr>\n",
       "    <tr>\n",
       "      <th>2017-12-27</th>\n",
       "      <td>2682.100098</td>\n",
       "      <td>2682.620117</td>\n",
       "      <td>2202080000</td>\n",
       "    </tr>\n",
       "    <tr>\n",
       "      <th>2017-12-28</th>\n",
       "      <td>2686.100098</td>\n",
       "      <td>2687.540039</td>\n",
       "      <td>2153330000</td>\n",
       "    </tr>\n",
       "    <tr>\n",
       "      <th>2017-12-29</th>\n",
       "      <td>2689.149902</td>\n",
       "      <td>2673.610107</td>\n",
       "      <td>2443490000</td>\n",
       "    </tr>\n",
       "  </tbody>\n",
       "</table>\n",
       "<p>5032 rows × 3 columns</p>\n",
       "</div>"
      ],
      "text/plain": [
       "                   Open        Close      Volume\n",
       "Date                                            \n",
       "1998-01-02   970.429993   975.039978   366730000\n",
       "1998-01-05   975.039978   977.070007   628070000\n",
       "1998-01-06   977.070007   966.580017   618360000\n",
       "1998-01-07   966.580017   964.000000   667390000\n",
       "1998-01-08   964.000000   956.049988   652140000\n",
       "...                 ...          ...         ...\n",
       "2017-12-22  2684.219971  2683.340088  2399830000\n",
       "2017-12-26  2679.090088  2680.500000  1968780000\n",
       "2017-12-27  2682.100098  2682.620117  2202080000\n",
       "2017-12-28  2686.100098  2687.540039  2153330000\n",
       "2017-12-29  2689.149902  2673.610107  2443490000\n",
       "\n",
       "[5032 rows x 3 columns]"
      ]
     },
     "execution_count": 35,
     "metadata": {},
     "output_type": "execute_result"
    }
   ],
   "source": [
    "df"
   ]
  },
  {
   "cell_type": "code",
   "execution_count": 42,
   "id": "ordered-superior",
   "metadata": {},
   "outputs": [],
   "source": [
    "df_open = df[\"Open\"]\n",
    "df_close = df[\"Close\"]\n",
    "df_volume = df[\"Volume\"]"
   ]
  },
  {
   "cell_type": "code",
   "execution_count": 43,
   "id": "recognized-trading",
   "metadata": {},
   "outputs": [
    {
     "data": {
      "text/plain": [
       "Date\n",
       "1998-01-02     970.429993\n",
       "1998-01-05     975.039978\n",
       "1998-01-06     977.070007\n",
       "1998-01-07     966.580017\n",
       "1998-01-08     964.000000\n",
       "                 ...     \n",
       "2017-12-22    2684.219971\n",
       "2017-12-26    2679.090088\n",
       "2017-12-27    2682.100098\n",
       "2017-12-28    2686.100098\n",
       "2017-12-29    2689.149902\n",
       "Name: Open, Length: 5032, dtype: float64"
      ]
     },
     "execution_count": 43,
     "metadata": {},
     "output_type": "execute_result"
    }
   ],
   "source": [
    "df_open"
   ]
  },
  {
   "cell_type": "code",
   "execution_count": 34,
   "id": "impressive-elder",
   "metadata": {},
   "outputs": [],
   "source": [
    "df = df.set_index(\"Date\")"
   ]
  },
  {
   "cell_type": "code",
   "execution_count": 45,
   "id": "blond-marble",
   "metadata": {},
   "outputs": [
    {
     "data": {
      "text/plain": [
       "<AxesSubplot:xlabel='Date'>"
      ]
     },
     "execution_count": 45,
     "metadata": {},
     "output_type": "execute_result"
    },
    {
     "data": {
      "image/png": "[encoded data removed]",
      "text/plain": [
       "<Figure size 432x288 with 1 Axes>"
      ]
     },
     "metadata": {
      "needs_background": "light"
     },
     "output_type": "display_data"
    }
   ],
   "source": [
    "df_open.plot()"
   ]
  },
  {
   "cell_type": "code",
   "execution_count": null,
   "id": "imported-kenya",
   "metadata": {},
   "outputs": [],
   "source": []
  }
 ],
 "metadata": {
  "kernelspec": {
   "display_name": "Python 3",
   "language": "python",
   "name": "python3"
  },
  "language_info": {
   "codemirror_mode": {
    "name": "ipython",
    "version": 3
   },
   "file_extension": ".py",
   "mimetype": "text/x-python",
   "name": "python",
   "nbconvert_exporter": "python",
   "pygments_lexer": "ipython3",
   "version": "3.9.0"
  }
 },
 "nbformat": 4,
 "nbformat_minor": 5
}
