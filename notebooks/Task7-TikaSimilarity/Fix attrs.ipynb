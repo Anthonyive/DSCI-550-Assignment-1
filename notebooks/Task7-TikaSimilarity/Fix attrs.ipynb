{
 "cells": [
  {
   "cell_type": "markdown",
   "id": "latest-peoples",
   "metadata": {},
   "source": [
    "# Fix attrs for 5b6 and 5b9\n",
    "Since the generation and uploading of data mentioned before in task 6 are too nested, I want to fix it here, so the following code will \"fix\" the 5b6 and 5b9 features until it has the max level of 1. "
   ]
  },
  {
   "cell_type": "code",
   "execution_count": 1,
   "id": "written-messaging",
   "metadata": {},
   "outputs": [
    {
     "data": {
      "text/plain": [
       "''"
      ]
     },
     "execution_count": 1,
     "metadata": {},
     "output_type": "execute_result"
    }
   ],
   "source": [
    "import git\n",
    "\n",
    "git.Git(\"Downloads/\").clone(\"https://github.com/chrismattmann/tika-similarity.git\")"
   ]
  },
  {
   "cell_type": "code",
   "execution_count": 79,
   "id": "secure-dubai",
   "metadata": {},
   "outputs": [],
   "source": [
    "import json\n",
    "\n",
    "j = json.load(open('Downloads/dsci-550-project_data.json'))"
   ]
  },
  {
   "cell_type": "code",
   "execution_count": 80,
   "id": "black-humor",
   "metadata": {},
   "outputs": [],
   "source": [
    "import pprint\n",
    "\n",
    "j = {i:{k.replace('_', ' ').lower(): v for k,v in content.items()} for i, content in j.items()}\n",
    "for i, content in j.items():\n",
    "    if 'attacker estimated age' in content:\n",
    "        try:\n",
    "            # averge estimated age\n",
    "            content['attacker estimated age'] = sum([float(v) for _, v in (content['attacker estimated age']['age prediction']).items()]) / len(content['attacker estimated age']['age prediction'])\n",
    "        except:\n",
    "            content['attacker estimated age'] = None\n",
    "    \n",
    "    if 'attacker relationship' in content:\n",
    "        li = []\n",
    "        \n",
    "        mapping = {'Did I know your friend?': 'online', 'Did we meet in person before?': 'friend of a friend', 'Did we meet online?':'person'}\n",
    "          \n",
    "        for q, a in (content['attacker relationship']['boolean-questions']).items():\n",
    "            if float(a['proba_yes']) > float(a['proba_no']):\n",
    "                li.append(mapping[q])\n",
    "                \n",
    "        content['attacker relationship'] = li\n",
    "                \n",
    "    if 'name gender' in content:\n",
    "        gender_li=[]\n",
    "        for i, val in (content['name gender']['names']).items():\n",
    "            if 'Gender' in val:\n",
    "                gender_li.append(val['Gender'])\n",
    "            else:\n",
    "                gender_li.append(None)\n",
    "                \n",
    "        content['male count'] = gender_li.count('M')\n",
    "        content['female count'] = gender_li.count('F')\n",
    "        content['unknown count'] = gender_li.count(None)\n",
    "        \n",
    "        del content['name gender']"
   ]
  },
  {
   "cell_type": "code",
   "execution_count": 81,
   "id": "bulgarian-fashion",
   "metadata": {},
   "outputs": [
    {
     "name": "stdout",
     "output_type": "stream",
     "text": [
      "{   'date': 'unknown',\n",
      "    'index': 0,\n",
      "    'location': {'0': {'lat': 48.4284207, 'lng': -123.3656444}},\n",
      "    'now frequency': 0,\n",
      "    'stock': 'unknown',\n",
      "    'time': 'unknown',\n",
      "    'urgent frequency': 0,\n",
      "    'wrong cap ratio': 'unknown'}\n",
      "{   'attack type': {   'credential_phishing': 1,\n",
      "                       'malware': 0,\n",
      "                       'reconnaissance': 1,\n",
      "                       'social_engineering': 1},\n",
      "    'attacker estimated age': 30.067339197525932,\n",
      "    'attacker relationship': ['online', 'friend of a friend', 'person'],\n",
      "    'date': '10/30/02',\n",
      "    'female count': 0,\n",
      "    'has offer': 'no',\n",
      "    'high total cholesterol rate': 10.3,\n",
      "    'hypertension rate': 25.6,\n",
      "    'index': 1,\n",
      "    'ip': 'unknown',\n",
      "    'location': {'0': {'lat': 5.6037168, 'lng': -0.1869644}},\n",
      "    'male count': 5,\n",
      "    'now frequency': 0,\n",
      "    'obesity rate': 26.1,\n",
      "    'sentiment analysis': 'negative',\n",
      "    'stock': {'close': 890.710022, 'open': 882.150024, 'volume': 1422300000},\n",
      "    'time': '21:41:56',\n",
      "    'title': 'General Prefix',\n",
      "    'unknown count': 5,\n",
      "    'urgent frequency': 4,\n",
      "    'wrong cap ratio': '0.483',\n",
      "    'wrongspellnumber': 27}\n",
      "{   'attack type': {   'credential_phishing': 1,\n",
      "                       'malware': 0,\n",
      "                       'reconnaissance': 0,\n",
      "                       'social_engineering': 1},\n",
      "    'attacker estimated age': 32.32215375428928,\n",
      "    'attacker relationship': ['online', 'friend of a friend', 'person'],\n",
      "    'date': '11/05/02',\n",
      "    'female count': 0,\n",
      "    'has offer': 'no',\n",
      "    'high total cholesterol rate': 10.3,\n",
      "    'hypertension rate': 25.6,\n",
      "    'index': 10,\n",
      "    'ip': {'ip_address': '208.14.9.28', 'risk': 'low', 'score': '8'},\n",
      "    'male count': 4,\n",
      "    'now frequency': 1,\n",
      "    'obesity rate': 26.1,\n",
      "    'sentiment analysis': 'neutral',\n",
      "    'stock': {'close': 915.390015, 'open': 908.349976, 'volume': 1354100000},\n",
      "    'time': '05:25:07',\n",
      "    'title': 'Name',\n",
      "    'unknown count': 2,\n",
      "    'urgent frequency': 2,\n",
      "    'wrong cap ratio': '0.117',\n",
      "    'wrongspellnumber': 23}\n"
     ]
    }
   ],
   "source": [
    "for i, content in j.items():\n",
    "    pp.pprint(content)\n",
    "    if int(i)>5: break"
   ]
  },
  {
   "cell_type": "code",
   "execution_count": 83,
   "id": "flying-metro",
   "metadata": {},
   "outputs": [
    {
     "data": {
      "text/plain": [
       "<Response [200]>"
      ]
     },
     "execution_count": 83,
     "metadata": {},
     "output_type": "execute_result"
    }
   ],
   "source": [
    "import requests\n",
    "\n",
    "requests.put('https://copydsci550.firebaseio.com/.json', json=j)"
   ]
  },
  {
   "cell_type": "code",
   "execution_count": null,
   "id": "sudden-viewer",
   "metadata": {},
   "outputs": [],
   "source": []
  }
 ],
 "metadata": {
  "kernelspec": {
   "display_name": "dsci550-assignment1",
   "language": "python",
   "name": "dsci550-assignment1"
  },
  "language_info": {
   "codemirror_mode": {
    "name": "ipython",
    "version": 3
   },
   "file_extension": ".py",
   "mimetype": "text/x-python",
   "name": "python",
   "nbconvert_exporter": "python",
   "pygments_lexer": "ipython3",
   "version": "3.8.5"
  }
 },
 "nbformat": 4,
 "nbformat_minor": 5
}
