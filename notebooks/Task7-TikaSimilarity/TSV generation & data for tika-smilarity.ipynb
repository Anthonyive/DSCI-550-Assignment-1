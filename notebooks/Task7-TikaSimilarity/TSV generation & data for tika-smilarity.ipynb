{
 "cells": [
  {
   "cell_type": "markdown",
   "id": "approved-olympus",
   "metadata": {},
   "source": [
    "# Additional features to tsv"
   ]
  },
  {
   "cell_type": "code",
   "execution_count": 85,
   "id": "designing-identifier",
   "metadata": {},
   "outputs": [],
   "source": [
    "import pandas as pd, json\n",
    "j = json.load(open('../../data/additional-features/additional-features.json'))"
   ]
  },
  {
   "cell_type": "code",
   "execution_count": 86,
   "id": "promising-conversation",
   "metadata": {},
   "outputs": [],
   "source": [
    "df1 = pd.json_normalize(list(j.values()),max_level=0)"
   ]
  },
  {
   "cell_type": "code",
   "execution_count": 87,
   "id": "tough-offering",
   "metadata": {},
   "outputs": [],
   "source": [
    "df1=df1.iloc[:-1,:]\n",
    "df1=df1.drop(['stock','risk','score'],axis=1)\n",
    "df1.to_csv('Downloads/additional_features.tsv',sep='\\t',index=False)"
   ]
  },
  {
   "cell_type": "markdown",
   "id": "velvet-actor",
   "metadata": {},
   "source": [
    "# Join tika metadata to additional features"
   ]
  },
  {
   "cell_type": "code",
   "execution_count": 92,
   "id": "bound-destiny",
   "metadata": {},
   "outputs": [],
   "source": [
    "j = json.load(open('../../data/fradulent_emails_t.json'))\n",
    "df2 = pd.json_normalize(j, max_level=0)"
   ]
  },
  {
   "cell_type": "code",
   "execution_count": 93,
   "id": "nervous-seeking",
   "metadata": {},
   "outputs": [],
   "source": [
    "df2= df2[['dc:subject','MboxParser-from','MboxParser-status','MboxParser-x-mailer','MboxParser-x-sieve','Message-From']].reset_index()\n",
    "# df2= df2.reset_index()"
   ]
  },
  {
   "cell_type": "code",
   "execution_count": 123,
   "id": "extra-mention",
   "metadata": {},
   "outputs": [],
   "source": [
    "df = df2.merge(df1, left_on='index', right_on='index')"
   ]
  },
  {
   "cell_type": "code",
   "execution_count": 124,
   "id": "tracked-pharmaceutical",
   "metadata": {},
   "outputs": [],
   "source": [
    "import numpy as np\n",
    "df =df.replace(np.nan, 'unknown', regex=True)\n",
    "df = df.replace(\"N/A\", 'unknown',regex=True)"
   ]
  },
  {
   "cell_type": "code",
   "execution_count": 125,
   "id": "still-return",
   "metadata": {},
   "outputs": [],
   "source": [
    "import pprint\n",
    "import json\n",
    "\n",
    "pp= pprint.PrettyPrinter(indent=4)\n",
    "for jdict in df.to_dict(orient='records'):\n",
    "    i = jdict['index']\n",
    "    json.dump(jdict, open(f'Downloads/sep_by_email/{i}.json', 'w'))"
   ]
  },
  {
   "cell_type": "code",
   "execution_count": null,
   "id": "revised-sense",
   "metadata": {},
   "outputs": [],
   "source": []
  }
 ],
 "metadata": {
  "kernelspec": {
   "display_name": "dsci550-assignment1",
   "language": "python",
   "name": "dsci550-assignment1"
  },
  "language_info": {
   "codemirror_mode": {
    "name": "ipython",
    "version": 3
   },
   "file_extension": ".py",
   "mimetype": "text/x-python",
   "name": "python",
   "nbconvert_exporter": "python",
   "pygments_lexer": "ipython3",
   "version": "3.8.5"
  }
 },
 "nbformat": 4,
 "nbformat_minor": 5
}
