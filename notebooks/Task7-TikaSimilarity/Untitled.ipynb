{
 "cells": [
  {
   "cell_type": "code",
   "execution_count": 3,
   "id": "adolescent-queue",
   "metadata": {},
   "outputs": [],
   "source": [
    "import pandas as pd, json\n",
    "j = json.load(open('Downloads/copydsci550-export.json'))\n"
   ]
  },
  {
   "cell_type": "code",
   "execution_count": 10,
   "id": "portuguese-edinburgh",
   "metadata": {},
   "outputs": [],
   "source": [
    "df = pd.json_normalize(list(j.values()),max_level=0)"
   ]
  },
  {
   "cell_type": "code",
   "execution_count": 11,
   "id": "cellular-integration",
   "metadata": {},
   "outputs": [],
   "source": [
    "df.to_csv('Downloads/df.csv')"
   ]
  },
  {
   "cell_type": "code",
   "execution_count": null,
   "id": "aggressive-despite",
   "metadata": {},
   "outputs": [],
   "source": []
  }
 ],
 "metadata": {
  "kernelspec": {
   "display_name": "dsci550-assignment1",
   "language": "python",
   "name": "dsci550-assignment1"
  },
  "language_info": {
   "codemirror_mode": {
    "name": "ipython",
    "version": 3
   },
   "file_extension": ".py",
   "mimetype": "text/x-python",
   "name": "python",
   "nbconvert_exporter": "python",
   "pygments_lexer": "ipython3",
   "version": "3.8.5"
  }
 },
 "nbformat": 4,
 "nbformat_minor": 5
}
